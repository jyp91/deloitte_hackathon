{
 "cells": [
  {
   "cell_type": "markdown",
   "metadata": {},
   "source": [
    "#  Deloitte Hackathon \n",
    "\n",
    "Data gathered from http://www.ncdrisc.org/data-downloads.html"
   ]
  },
  {
   "cell_type": "code",
   "execution_count": 81,
   "metadata": {
    "collapsed": true
   },
   "outputs": [],
   "source": [
    "import pandas as pd\n",
    "import numpy as np"
   ]
  },
  {
   "cell_type": "code",
   "execution_count": 82,
   "metadata": {},
   "outputs": [],
   "source": [
    "blood_pressure = pd.read_csv(\"../data/United States of America blood pressure.csv\", engine='python')\n",
    "bmi = pd.read_csv(\"../data/NCD_RisC_Lancet_2017_BMI_age_standardised_United States of America (1).csv\", engine='python')\n",
    "diabetes = pd.read_csv(\"../data/United States of America diabetes.csv\", engine='python')\n",
    "height = pd.read_csv(\"../data/United States of America height.csv\", engine='python')"
   ]
  },
  {
   "cell_type": "code",
   "execution_count": 83,
   "metadata": {},
   "outputs": [],
   "source": [
    "blood_cols = [col for col in blood_pressure.columns if col in ['Sex',\n",
    "                                                               'Year',\n",
    "                                                               'Age-standardised mean systolic blood pressure (mmHg)']]\n",
    "bmi_cols = [col for col in bmi.columns if col in ['Sex',\n",
    "                                                  'Year',\n",
    "                                                  'Mean BMI']]\n",
    "diabetes_cols = [col for col in diabetes.columns if col in ['Sex',\n",
    "                                                            'Year',\n",
    "                                                            'Age-standardised diabetes prevalence']]\n",
    "height_cols = [col for col in height.columns if col in ['Sex',\n",
    "                                                               'Year of birth',\n",
    "                                                               'Mean height (cm)']]\n"
   ]
  },
  {
   "cell_type": "code",
   "execution_count": 84,
   "metadata": {
    "scrolled": true
   },
   "outputs": [],
   "source": [
    "blood_pressure = blood_pressure[blood_cols]\n",
    "bmi = bmi[bmi_cols]\n",
    "diabetes = diabetes[diabetes_cols]\n",
    "height = height[height_cols]"
   ]
  },
  {
   "cell_type": "code",
   "execution_count": 85,
   "metadata": {
    "collapsed": true
   },
   "outputs": [],
   "source": [
    "blood_new_col = [u'sex', u'year', u'average_blood_pressure_mmHg']\n",
    "bmi_new_col = [u'sex', u'year', u'average_bmi']\n",
    "diabetes_new_col = [u'sex', u'year', u'average_diabetes']\n",
    "height_new_col = [u'sex', u'year', u'average_height_cm']"
   ]
  },
  {
   "cell_type": "code",
   "execution_count": 86,
   "metadata": {
    "collapsed": true
   },
   "outputs": [],
   "source": [
    "blood_pressure.columns = blood_new_col\n",
    "bmi.columns = bmi_new_col\n",
    "diabetes.columns = diabetes_new_col\n",
    "height.columns = height_new_col"
   ]
  },
  {
   "cell_type": "code",
   "execution_count": 87,
   "metadata": {
    "scrolled": true
   },
   "outputs": [],
   "source": [
    "df1 = pd.merge(blood_pressure, bmi, how='left', on=['sex', 'year'])"
   ]
  },
  {
   "cell_type": "code",
   "execution_count": 88,
   "metadata": {
    "collapsed": true
   },
   "outputs": [],
   "source": [
    "df2 = pd.merge(df1, diabetes, how='left', on=['sex', 'year'])"
   ]
  },
  {
   "cell_type": "code",
   "execution_count": 89,
   "metadata": {},
   "outputs": [],
   "source": [
    "df3 = pd.merge(df2, height, how='left', on=['sex', 'year'])"
   ]
  },
  {
   "cell_type": "code",
   "execution_count": 90,
   "metadata": {},
   "outputs": [],
   "source": [
    "df = df3[['year',\n",
    "              'sex', \n",
    "              'average_blood_pressure_mmHg',\n",
    "              'average_bmi',\n",
    "              'average_diabetes',\n",
    "              'average_height_cm']]"
   ]
  },
  {
   "cell_type": "code",
   "execution_count": 93,
   "metadata": {},
   "outputs": [
    {
     "name": "stderr",
     "output_type": "stream",
     "text": [
      "/Users/jinpark/anaconda3/lib/python3.6/site-packages/ipykernel_launcher.py:1: SettingWithCopyWarning: \n",
      "A value is trying to be set on a copy of a slice from a DataFrame\n",
      "\n",
      "See the caveats in the documentation: http://pandas.pydata.org/pandas-docs/stable/indexing.html#indexing-view-versus-copy\n",
      "  \"\"\"Entry point for launching an IPython kernel.\n"
     ]
    }
   ],
   "source": [
    "df.dropna(inplace=True)"
   ]
  },
  {
   "cell_type": "code",
   "execution_count": 80,
   "metadata": {},
   "outputs": [
    {
     "data": {
      "text/html": [
       "<div>\n",
       "<style>\n",
       "    .dataframe thead tr:only-child th {\n",
       "        text-align: right;\n",
       "    }\n",
       "\n",
       "    .dataframe thead th {\n",
       "        text-align: left;\n",
       "    }\n",
       "\n",
       "    .dataframe tbody tr th {\n",
       "        vertical-align: top;\n",
       "    }\n",
       "</style>\n",
       "<table border=\"1\" class=\"dataframe\">\n",
       "  <thead>\n",
       "    <tr style=\"text-align: right;\">\n",
       "      <th></th>\n",
       "      <th>year</th>\n",
       "      <th>sex</th>\n",
       "      <th>average_blood_pressure_mmHg</th>\n",
       "      <th>average_bmi</th>\n",
       "      <th>average_diabetes</th>\n",
       "      <th>average_height_cm</th>\n",
       "    </tr>\n",
       "  </thead>\n",
       "  <tbody>\n",
       "    <tr>\n",
       "      <th>5</th>\n",
       "      <td>1980</td>\n",
       "      <td>Men</td>\n",
       "      <td>128.402402</td>\n",
       "      <td>25.592312</td>\n",
       "      <td>0.046597</td>\n",
       "      <td>177.531675</td>\n",
       "    </tr>\n",
       "    <tr>\n",
       "      <th>6</th>\n",
       "      <td>1981</td>\n",
       "      <td>Men</td>\n",
       "      <td>127.944534</td>\n",
       "      <td>25.662449</td>\n",
       "      <td>0.047244</td>\n",
       "      <td>177.521189</td>\n",
       "    </tr>\n",
       "    <tr>\n",
       "      <th>7</th>\n",
       "      <td>1982</td>\n",
       "      <td>Men</td>\n",
       "      <td>127.484951</td>\n",
       "      <td>25.737904</td>\n",
       "      <td>0.047964</td>\n",
       "      <td>177.508491</td>\n",
       "    </tr>\n",
       "    <tr>\n",
       "      <th>8</th>\n",
       "      <td>1983</td>\n",
       "      <td>Men</td>\n",
       "      <td>127.032056</td>\n",
       "      <td>25.818297</td>\n",
       "      <td>0.048793</td>\n",
       "      <td>177.492798</td>\n",
       "    </tr>\n",
       "    <tr>\n",
       "      <th>9</th>\n",
       "      <td>1984</td>\n",
       "      <td>Men</td>\n",
       "      <td>126.580242</td>\n",
       "      <td>25.903410</td>\n",
       "      <td>0.049726</td>\n",
       "      <td>177.473892</td>\n",
       "    </tr>\n",
       "    <tr>\n",
       "      <th>10</th>\n",
       "      <td>1985</td>\n",
       "      <td>Men</td>\n",
       "      <td>126.137021</td>\n",
       "      <td>25.993417</td>\n",
       "      <td>0.050751</td>\n",
       "      <td>177.451222</td>\n",
       "    </tr>\n",
       "    <tr>\n",
       "      <th>11</th>\n",
       "      <td>1986</td>\n",
       "      <td>Men</td>\n",
       "      <td>125.704223</td>\n",
       "      <td>26.087701</td>\n",
       "      <td>0.051838</td>\n",
       "      <td>177.424919</td>\n",
       "    </tr>\n",
       "    <tr>\n",
       "      <th>12</th>\n",
       "      <td>1987</td>\n",
       "      <td>Men</td>\n",
       "      <td>125.284175</td>\n",
       "      <td>26.185576</td>\n",
       "      <td>0.052975</td>\n",
       "      <td>177.395842</td>\n",
       "    </tr>\n",
       "    <tr>\n",
       "      <th>13</th>\n",
       "      <td>1988</td>\n",
       "      <td>Men</td>\n",
       "      <td>124.876589</td>\n",
       "      <td>26.287496</td>\n",
       "      <td>0.054166</td>\n",
       "      <td>177.365017</td>\n",
       "    </tr>\n",
       "    <tr>\n",
       "      <th>14</th>\n",
       "      <td>1989</td>\n",
       "      <td>Men</td>\n",
       "      <td>124.489658</td>\n",
       "      <td>26.393803</td>\n",
       "      <td>0.055419</td>\n",
       "      <td>177.334219</td>\n",
       "    </tr>\n",
       "    <tr>\n",
       "      <th>15</th>\n",
       "      <td>1990</td>\n",
       "      <td>Men</td>\n",
       "      <td>124.114775</td>\n",
       "      <td>26.504589</td>\n",
       "      <td>0.056700</td>\n",
       "      <td>177.302973</td>\n",
       "    </tr>\n",
       "    <tr>\n",
       "      <th>16</th>\n",
       "      <td>1991</td>\n",
       "      <td>Men</td>\n",
       "      <td>123.759839</td>\n",
       "      <td>26.620734</td>\n",
       "      <td>0.058035</td>\n",
       "      <td>177.272630</td>\n",
       "    </tr>\n",
       "    <tr>\n",
       "      <th>17</th>\n",
       "      <td>1992</td>\n",
       "      <td>Men</td>\n",
       "      <td>123.432468</td>\n",
       "      <td>26.741411</td>\n",
       "      <td>0.059406</td>\n",
       "      <td>177.243253</td>\n",
       "    </tr>\n",
       "    <tr>\n",
       "      <th>18</th>\n",
       "      <td>1993</td>\n",
       "      <td>Men</td>\n",
       "      <td>123.133116</td>\n",
       "      <td>26.865551</td>\n",
       "      <td>0.060802</td>\n",
       "      <td>177.214932</td>\n",
       "    </tr>\n",
       "    <tr>\n",
       "      <th>19</th>\n",
       "      <td>1994</td>\n",
       "      <td>Men</td>\n",
       "      <td>122.866478</td>\n",
       "      <td>26.992722</td>\n",
       "      <td>0.062224</td>\n",
       "      <td>177.186675</td>\n",
       "    </tr>\n",
       "    <tr>\n",
       "      <th>20</th>\n",
       "      <td>1995</td>\n",
       "      <td>Men</td>\n",
       "      <td>122.633372</td>\n",
       "      <td>27.121533</td>\n",
       "      <td>0.063645</td>\n",
       "      <td>177.158675</td>\n",
       "    </tr>\n",
       "    <tr>\n",
       "      <th>21</th>\n",
       "      <td>1996</td>\n",
       "      <td>Men</td>\n",
       "      <td>122.435276</td>\n",
       "      <td>27.250687</td>\n",
       "      <td>0.065073</td>\n",
       "      <td>177.130396</td>\n",
       "    </tr>\n",
       "    <tr>\n",
       "      <th>46</th>\n",
       "      <td>1980</td>\n",
       "      <td>Women</td>\n",
       "      <td>121.876990</td>\n",
       "      <td>25.091709</td>\n",
       "      <td>0.043209</td>\n",
       "      <td>163.839588</td>\n",
       "    </tr>\n",
       "    <tr>\n",
       "      <th>47</th>\n",
       "      <td>1981</td>\n",
       "      <td>Women</td>\n",
       "      <td>121.293991</td>\n",
       "      <td>25.175194</td>\n",
       "      <td>0.043493</td>\n",
       "      <td>163.810141</td>\n",
       "    </tr>\n",
       "    <tr>\n",
       "      <th>48</th>\n",
       "      <td>1982</td>\n",
       "      <td>Women</td>\n",
       "      <td>120.734161</td>\n",
       "      <td>25.265105</td>\n",
       "      <td>0.043835</td>\n",
       "      <td>163.783965</td>\n",
       "    </tr>\n",
       "    <tr>\n",
       "      <th>49</th>\n",
       "      <td>1983</td>\n",
       "      <td>Women</td>\n",
       "      <td>120.196161</td>\n",
       "      <td>25.361073</td>\n",
       "      <td>0.044255</td>\n",
       "      <td>163.762324</td>\n",
       "    </tr>\n",
       "    <tr>\n",
       "      <th>50</th>\n",
       "      <td>1984</td>\n",
       "      <td>Women</td>\n",
       "      <td>119.680823</td>\n",
       "      <td>25.462928</td>\n",
       "      <td>0.044771</td>\n",
       "      <td>163.744045</td>\n",
       "    </tr>\n",
       "    <tr>\n",
       "      <th>51</th>\n",
       "      <td>1985</td>\n",
       "      <td>Women</td>\n",
       "      <td>119.192557</td>\n",
       "      <td>25.569691</td>\n",
       "      <td>0.045342</td>\n",
       "      <td>163.728075</td>\n",
       "    </tr>\n",
       "    <tr>\n",
       "      <th>52</th>\n",
       "      <td>1986</td>\n",
       "      <td>Women</td>\n",
       "      <td>118.742505</td>\n",
       "      <td>25.680783</td>\n",
       "      <td>0.045961</td>\n",
       "      <td>163.713464</td>\n",
       "    </tr>\n",
       "    <tr>\n",
       "      <th>53</th>\n",
       "      <td>1987</td>\n",
       "      <td>Women</td>\n",
       "      <td>118.331531</td>\n",
       "      <td>25.796414</td>\n",
       "      <td>0.046607</td>\n",
       "      <td>163.699100</td>\n",
       "    </tr>\n",
       "    <tr>\n",
       "      <th>54</th>\n",
       "      <td>1988</td>\n",
       "      <td>Women</td>\n",
       "      <td>117.958783</td>\n",
       "      <td>25.916183</td>\n",
       "      <td>0.047282</td>\n",
       "      <td>163.683399</td>\n",
       "    </tr>\n",
       "    <tr>\n",
       "      <th>55</th>\n",
       "      <td>1989</td>\n",
       "      <td>Women</td>\n",
       "      <td>117.623098</td>\n",
       "      <td>26.039726</td>\n",
       "      <td>0.048000</td>\n",
       "      <td>163.666719</td>\n",
       "    </tr>\n",
       "    <tr>\n",
       "      <th>56</th>\n",
       "      <td>1990</td>\n",
       "      <td>Women</td>\n",
       "      <td>117.320022</td>\n",
       "      <td>26.167177</td>\n",
       "      <td>0.048738</td>\n",
       "      <td>163.648785</td>\n",
       "    </tr>\n",
       "    <tr>\n",
       "      <th>57</th>\n",
       "      <td>1991</td>\n",
       "      <td>Women</td>\n",
       "      <td>117.052349</td>\n",
       "      <td>26.300210</td>\n",
       "      <td>0.049513</td>\n",
       "      <td>163.631022</td>\n",
       "    </tr>\n",
       "    <tr>\n",
       "      <th>58</th>\n",
       "      <td>1992</td>\n",
       "      <td>Women</td>\n",
       "      <td>116.816403</td>\n",
       "      <td>26.437822</td>\n",
       "      <td>0.050313</td>\n",
       "      <td>163.613066</td>\n",
       "    </tr>\n",
       "    <tr>\n",
       "      <th>59</th>\n",
       "      <td>1993</td>\n",
       "      <td>Women</td>\n",
       "      <td>116.610284</td>\n",
       "      <td>26.579174</td>\n",
       "      <td>0.051133</td>\n",
       "      <td>163.594907</td>\n",
       "    </tr>\n",
       "    <tr>\n",
       "      <th>60</th>\n",
       "      <td>1994</td>\n",
       "      <td>Women</td>\n",
       "      <td>116.432016</td>\n",
       "      <td>26.723087</td>\n",
       "      <td>0.051986</td>\n",
       "      <td>163.575945</td>\n",
       "    </tr>\n",
       "    <tr>\n",
       "      <th>61</th>\n",
       "      <td>1995</td>\n",
       "      <td>Women</td>\n",
       "      <td>116.284171</td>\n",
       "      <td>26.868630</td>\n",
       "      <td>0.052860</td>\n",
       "      <td>163.557090</td>\n",
       "    </tr>\n",
       "    <tr>\n",
       "      <th>62</th>\n",
       "      <td>1996</td>\n",
       "      <td>Women</td>\n",
       "      <td>116.168799</td>\n",
       "      <td>27.014780</td>\n",
       "      <td>0.053747</td>\n",
       "      <td>163.538137</td>\n",
       "    </tr>\n",
       "  </tbody>\n",
       "</table>\n",
       "</div>"
      ],
      "text/plain": [
       "    year    sex  average_blood_pressure_mmHg  average_bmi  average_diabetes  \\\n",
       "5   1980    Men                   128.402402    25.592312          0.046597   \n",
       "6   1981    Men                   127.944534    25.662449          0.047244   \n",
       "7   1982    Men                   127.484951    25.737904          0.047964   \n",
       "8   1983    Men                   127.032056    25.818297          0.048793   \n",
       "9   1984    Men                   126.580242    25.903410          0.049726   \n",
       "10  1985    Men                   126.137021    25.993417          0.050751   \n",
       "11  1986    Men                   125.704223    26.087701          0.051838   \n",
       "12  1987    Men                   125.284175    26.185576          0.052975   \n",
       "13  1988    Men                   124.876589    26.287496          0.054166   \n",
       "14  1989    Men                   124.489658    26.393803          0.055419   \n",
       "15  1990    Men                   124.114775    26.504589          0.056700   \n",
       "16  1991    Men                   123.759839    26.620734          0.058035   \n",
       "17  1992    Men                   123.432468    26.741411          0.059406   \n",
       "18  1993    Men                   123.133116    26.865551          0.060802   \n",
       "19  1994    Men                   122.866478    26.992722          0.062224   \n",
       "20  1995    Men                   122.633372    27.121533          0.063645   \n",
       "21  1996    Men                   122.435276    27.250687          0.065073   \n",
       "46  1980  Women                   121.876990    25.091709          0.043209   \n",
       "47  1981  Women                   121.293991    25.175194          0.043493   \n",
       "48  1982  Women                   120.734161    25.265105          0.043835   \n",
       "49  1983  Women                   120.196161    25.361073          0.044255   \n",
       "50  1984  Women                   119.680823    25.462928          0.044771   \n",
       "51  1985  Women                   119.192557    25.569691          0.045342   \n",
       "52  1986  Women                   118.742505    25.680783          0.045961   \n",
       "53  1987  Women                   118.331531    25.796414          0.046607   \n",
       "54  1988  Women                   117.958783    25.916183          0.047282   \n",
       "55  1989  Women                   117.623098    26.039726          0.048000   \n",
       "56  1990  Women                   117.320022    26.167177          0.048738   \n",
       "57  1991  Women                   117.052349    26.300210          0.049513   \n",
       "58  1992  Women                   116.816403    26.437822          0.050313   \n",
       "59  1993  Women                   116.610284    26.579174          0.051133   \n",
       "60  1994  Women                   116.432016    26.723087          0.051986   \n",
       "61  1995  Women                   116.284171    26.868630          0.052860   \n",
       "62  1996  Women                   116.168799    27.014780          0.053747   \n",
       "\n",
       "    average_height_cm  \n",
       "5          177.531675  \n",
       "6          177.521189  \n",
       "7          177.508491  \n",
       "8          177.492798  \n",
       "9          177.473892  \n",
       "10         177.451222  \n",
       "11         177.424919  \n",
       "12         177.395842  \n",
       "13         177.365017  \n",
       "14         177.334219  \n",
       "15         177.302973  \n",
       "16         177.272630  \n",
       "17         177.243253  \n",
       "18         177.214932  \n",
       "19         177.186675  \n",
       "20         177.158675  \n",
       "21         177.130396  \n",
       "46         163.839588  \n",
       "47         163.810141  \n",
       "48         163.783965  \n",
       "49         163.762324  \n",
       "50         163.744045  \n",
       "51         163.728075  \n",
       "52         163.713464  \n",
       "53         163.699100  \n",
       "54         163.683399  \n",
       "55         163.666719  \n",
       "56         163.648785  \n",
       "57         163.631022  \n",
       "58         163.613066  \n",
       "59         163.594907  \n",
       "60         163.575945  \n",
       "61         163.557090  \n",
       "62         163.538137  "
      ]
     },
     "execution_count": 80,
     "metadata": {},
     "output_type": "execute_result"
    }
   ],
   "source": [
    "df"
   ]
  },
  {
   "cell_type": "code",
   "execution_count": 99,
   "metadata": {
    "collapsed": true
   },
   "outputs": [],
   "source": [
    "import seaborn as sns\n",
    "import matplotlib.pyplot as plt\n",
    "%matplotlib inline"
   ]
  },
  {
   "cell_type": "code",
   "execution_count": 129,
   "metadata": {
    "scrolled": true
   },
   "outputs": [
    {
     "data": {
      "image/png": "[encoded data removed]",
      "text/plain": [
       "<matplotlib.figure.Figure at 0x1a0d2efda0>"
      ]
     },
     "metadata": {},
     "output_type": "display_data"
    }
   ],
   "source": [
    "sns.barplot(x=df['year'],\n",
    "            y=df['average_blood_pressure_mmHg'],\n",
    "            hue=df['sex']).set(title=f'Average Blood Pressure Trend By Year')\n",
    "plt.xticks(rotation=35)\n",
    "plt.ylim(100, 130)\n",
    "plt.show();"
   ]
  },
  {
   "cell_type": "code",
   "execution_count": 128,
   "metadata": {},
   "outputs": [
    {
     "data": {
      "image/png": "[encoded data removed]",
      "text/plain": [
       "<matplotlib.figure.Figure at 0x1a0c9bb8d0>"
      ]
     },
     "metadata": {},
     "output_type": "display_data"
    }
   ],
   "source": [
    "sns.barplot(x=df['year'],\n",
    "            y=df['average_bmi'],\n",
    "            hue=df['sex']).set(title=f'Average BMI Trend By Year')\n",
    "plt.xticks(rotation=35)\n",
    "plt.ylim(18, 30)\n",
    "plt.show();"
   ]
  },
  {
   "cell_type": "code",
   "execution_count": 131,
   "metadata": {},
   "outputs": [
    {
     "data": {
      "image/png": "[encoded data removed]",
      "text/plain": [
       "<matplotlib.figure.Figure at 0x1a0d285ac8>"
      ]
     },
     "metadata": {},
     "output_type": "display_data"
    }
   ],
   "source": [
    "sns.barplot(x=df['year'],\n",
    "            y=df['average_diabetes'],\n",
    "            hue=df['sex']).set(title=f'Average Diabetes Trend By Year')\n",
    "plt.ylim(0.03, 0.07)\n",
    "plt.xticks(rotation=35)\n",
    "plt.show();"
   ]
  },
  {
   "cell_type": "code",
   "execution_count": 134,
   "metadata": {},
   "outputs": [
    {
     "data": {
      "image/png": "[encoded data removed]",
      "text/plain": [
       "<matplotlib.figure.Figure at 0x1a0d70b5f8>"
      ]
     },
     "metadata": {},
     "output_type": "display_data"
    }
   ],
   "source": [
    "sns.barplot(x=df['year'],\n",
    "            y=df['average_height_cm'],\n",
    "            hue=df['sex']).set(title=f'Average Height Trend By Year')\n",
    "plt.xticks(rotation=35)\n",
    "plt.ylim(160.50, 178.50)\n",
    "plt.show();"
   ]
  },
  {
   "cell_type": "code",
   "execution_count": 135,
   "metadata": {},
   "outputs": [
    {
     "name": "stdout",
     "output_type": "stream",
     "text": [
      "<class 'pandas.core.frame.DataFrame'>\n",
      "Int64Index: 34 entries, 5 to 62\n",
      "Data columns (total 6 columns):\n",
      "year                           34 non-null int64\n",
      "sex                            34 non-null object\n",
      "average_blood_pressure_mmHg    34 non-null float64\n",
      "average_bmi                    34 non-null float64\n",
      "average_diabetes               34 non-null float64\n",
      "average_height_cm              34 non-null float64\n",
      "dtypes: float64(4), int64(1), object(1)\n",
      "memory usage: 3.1+ KB\n"
     ]
    }
   ],
   "source": [
    "df.info()"
   ]
  },
  {
   "cell_type": "code",
   "execution_count": 148,
   "metadata": {},
   "outputs": [
    {
     "name": "stderr",
     "output_type": "stream",
     "text": [
      "/Users/jinpark/anaconda3/lib/python3.6/site-packages/ipykernel_launcher.py:1: SettingWithCopyWarning: \n",
      "A value is trying to be set on a copy of a slice from a DataFrame.\n",
      "Try using .loc[row_indexer,col_indexer] = value instead\n",
      "\n",
      "See the caveats in the documentation: http://pandas.pydata.org/pandas-docs/stable/indexing.html#indexing-view-versus-copy\n",
      "  \"\"\"Entry point for launching an IPython kernel.\n"
     ]
    }
   ],
   "source": [
    "df['binary_sex'] = [1 if i == 'Men' else 0 for i in df['sex']]"
   ]
  },
  {
   "cell_type": "code",
   "execution_count": 149,
   "metadata": {},
   "outputs": [
    {
     "data": {
      "text/html": [
       "<div>\n",
       "<style>\n",
       "    .dataframe thead tr:only-child th {\n",
       "        text-align: right;\n",
       "    }\n",
       "\n",
       "    .dataframe thead th {\n",
       "        text-align: left;\n",
       "    }\n",
       "\n",
       "    .dataframe tbody tr th {\n",
       "        vertical-align: top;\n",
       "    }\n",
       "</style>\n",
       "<table border=\"1\" class=\"dataframe\">\n",
       "  <thead>\n",
       "    <tr style=\"text-align: right;\">\n",
       "      <th></th>\n",
       "      <th>year</th>\n",
       "      <th>sex</th>\n",
       "      <th>average_blood_pressure_mmHg</th>\n",
       "      <th>average_bmi</th>\n",
       "      <th>average_diabetes</th>\n",
       "      <th>average_height_cm</th>\n",
       "      <th>binary_sex</th>\n",
       "    </tr>\n",
       "  </thead>\n",
       "  <tbody>\n",
       "    <tr>\n",
       "      <th>5</th>\n",
       "      <td>1980</td>\n",
       "      <td>Men</td>\n",
       "      <td>128.402402</td>\n",
       "      <td>25.592312</td>\n",
       "      <td>0.046597</td>\n",
       "      <td>177.531675</td>\n",
       "      <td>1</td>\n",
       "    </tr>\n",
       "    <tr>\n",
       "      <th>6</th>\n",
       "      <td>1981</td>\n",
       "      <td>Men</td>\n",
       "      <td>127.944534</td>\n",
       "      <td>25.662449</td>\n",
       "      <td>0.047244</td>\n",
       "      <td>177.521189</td>\n",
       "      <td>1</td>\n",
       "    </tr>\n",
       "    <tr>\n",
       "      <th>7</th>\n",
       "      <td>1982</td>\n",
       "      <td>Men</td>\n",
       "      <td>127.484951</td>\n",
       "      <td>25.737904</td>\n",
       "      <td>0.047964</td>\n",
       "      <td>177.508491</td>\n",
       "      <td>1</td>\n",
       "    </tr>\n",
       "    <tr>\n",
       "      <th>8</th>\n",
       "      <td>1983</td>\n",
       "      <td>Men</td>\n",
       "      <td>127.032056</td>\n",
       "      <td>25.818297</td>\n",
       "      <td>0.048793</td>\n",
       "      <td>177.492798</td>\n",
       "      <td>1</td>\n",
       "    </tr>\n",
       "    <tr>\n",
       "      <th>9</th>\n",
       "      <td>1984</td>\n",
       "      <td>Men</td>\n",
       "      <td>126.580242</td>\n",
       "      <td>25.903410</td>\n",
       "      <td>0.049726</td>\n",
       "      <td>177.473892</td>\n",
       "      <td>1</td>\n",
       "    </tr>\n",
       "  </tbody>\n",
       "</table>\n",
       "</div>"
      ],
      "text/plain": [
       "   year  sex  average_blood_pressure_mmHg  average_bmi  average_diabetes  \\\n",
       "5  1980  Men                   128.402402    25.592312          0.046597   \n",
       "6  1981  Men                   127.944534    25.662449          0.047244   \n",
       "7  1982  Men                   127.484951    25.737904          0.047964   \n",
       "8  1983  Men                   127.032056    25.818297          0.048793   \n",
       "9  1984  Men                   126.580242    25.903410          0.049726   \n",
       "\n",
       "   average_height_cm  binary_sex  \n",
       "5         177.531675           1  \n",
       "6         177.521189           1  \n",
       "7         177.508491           1  \n",
       "8         177.492798           1  \n",
       "9         177.473892           1  "
      ]
     },
     "execution_count": 149,
     "metadata": {},
     "output_type": "execute_result"
    }
   ],
   "source": [
    "df.head()"
   ]
  },
  {
   "cell_type": "code",
   "execution_count": null,
   "metadata": {
    "collapsed": true
   },
   "outputs": [],
   "source": []
  }
 ],
 "metadata": {
  "kernelspec": {
   "display_name": "Python 3",
   "language": "python",
   "name": "python3"
  },
  "language_info": {
   "codemirror_mode": {
    "name": "ipython",
    "version": 3
   },
   "file_extension": ".py",
   "mimetype": "text/x-python",
   "name": "python",
   "nbconvert_exporter": "python",
   "pygments_lexer": "ipython3",
   "version": "3.6.3"
  }
 },
 "nbformat": 4,
 "nbformat_minor": 2
}
