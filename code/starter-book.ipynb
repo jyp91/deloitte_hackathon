{
 "cells": [
  {
   "cell_type": "markdown",
   "metadata": {},
   "source": [
    "#  Deloitte Hackathon \n",
    "\n",
    "Data gathered from http://www.ncdrisc.org/data-downloads.html"
   ]
  },
  {
   "cell_type": "code",
   "execution_count": 33,
   "metadata": {
    "collapsed": true
   },
   "outputs": [],
   "source": [
    "import pandas as pd\n",
    "import numpy as np"
   ]
  },
  {
   "cell_type": "code",
   "execution_count": 34,
   "metadata": {
    "collapsed": true
   },
   "outputs": [],
   "source": [
    "blood_pressure = pd.read_csv(\"../data/United States of America blood pressure.csv\", engine='python')\n",
    "bmi = pd.read_csv(\"../data/NCD_RisC_Lancet_2017_BMI_age_standardised_United States of America (1).csv\", engine='python')\n",
    "diabetes = pd.read_csv(\"../data/United States of America diabetes.csv\", engine='python')\n",
    "height = pd.read_csv(\"../data/United States of America height.csv\", engine='python')"
   ]
  },
  {
   "cell_type": "code",
   "execution_count": 35,
   "metadata": {
    "collapsed": true
   },
   "outputs": [],
   "source": [
    "blood_cols = [col for col in blood_pressure.columns if col in ['Sex',\n",
    "                                                               'Year',\n",
    "                                                               'Age-standardised mean systolic blood pressure (mmHg)']]\n",
    "bmi_cols = [col for col in bmi.columns if col in ['Sex',\n",
    "                                                  'Year',\n",
    "                                                  'Mean BMI']]\n",
    "diabetes_cols = [col for col in diabetes.columns if col in ['Sex',\n",
    "                                                            'Year',\n",
    "                                                            'Age-standardised diabetes prevalence']]\n",
    "height_cols = [col for col in height.columns if col in ['Sex',\n",
    "                                                               'Year of birth',\n",
    "                                                               'Mean height (cm)']]\n"
   ]
  },
  {
   "cell_type": "code",
   "execution_count": 36,
   "metadata": {
    "collapsed": true,
    "scrolled": true
   },
   "outputs": [],
   "source": [
    "blood_pressure = blood_pressure[blood_cols]\n",
    "bmi = bmi[bmi_cols]\n",
    "diabetes = diabetes[diabetes_cols]\n",
    "height = height[height_cols]"
   ]
  },
  {
   "cell_type": "code",
   "execution_count": 37,
   "metadata": {
    "collapsed": true
   },
   "outputs": [],
   "source": [
    "blood_new_col = [u'sex', u'year', u'average_blood_pressure_mmHg']\n",
    "bmi_new_col = [u'sex', u'year', u'average_bmi']\n",
    "diabetes_new_col = [u'sex', u'year', u'average_diabetes']\n",
    "height_new_col = [u'sex', u'year', u'average_height_cm']"
   ]
  },
  {
   "cell_type": "code",
   "execution_count": 38,
   "metadata": {
    "collapsed": true
   },
   "outputs": [],
   "source": [
    "blood_pressure.columns = blood_new_col\n",
    "bmi.columns = bmi_new_col\n",
    "diabetes.columns = diabetes_new_col\n",
    "height.columns = height_new_col"
   ]
  },
  {
   "cell_type": "code",
   "execution_count": 39,
   "metadata": {
    "collapsed": true,
    "scrolled": true
   },
   "outputs": [],
   "source": [
    "df1 = pd.merge(blood_pressure, bmi, how='left', on=['sex', 'year'])"
   ]
  },
  {
   "cell_type": "code",
   "execution_count": 40,
   "metadata": {
    "collapsed": true
   },
   "outputs": [],
   "source": [
    "df2 = pd.merge(df1, diabetes, how='left', on=['sex', 'year'])"
   ]
  },
  {
   "cell_type": "code",
   "execution_count": 41,
   "metadata": {
    "collapsed": true
   },
   "outputs": [],
   "source": [
    "df3 = pd.merge(df2, height, how='left', on=['sex', 'year'])"
   ]
  },
  {
   "cell_type": "code",
   "execution_count": 42,
   "metadata": {
    "collapsed": true
   },
   "outputs": [],
   "source": [
    "df = df3[['year',\n",
    "          'sex', \n",
    "          'average_blood_pressure_mmHg',\n",
    "          'average_bmi',\n",
    "          'average_diabetes',\n",
    "          'average_height_cm']]"
   ]
  },
  {
   "cell_type": "code",
   "execution_count": 43,
   "metadata": {},
   "outputs": [
    {
     "name": "stderr",
     "output_type": "stream",
     "text": [
      "/Users/jinpark/anaconda3/lib/python3.6/site-packages/ipykernel_launcher.py:1: SettingWithCopyWarning: \n",
      "A value is trying to be set on a copy of a slice from a DataFrame\n",
      "\n",
      "See the caveats in the documentation: http://pandas.pydata.org/pandas-docs/stable/indexing.html#indexing-view-versus-copy\n",
      "  \"\"\"Entry point for launching an IPython kernel.\n"
     ]
    }
   ],
   "source": [
    "df.dropna(inplace=True)"
   ]
  },
  {
   "cell_type": "code",
   "execution_count": 45,
   "metadata": {
    "collapsed": true
   },
   "outputs": [],
   "source": [
    "import seaborn as sns\n",
    "import matplotlib.pyplot as plt\n",
    "%matplotlib inline"
   ]
  },
  {
   "cell_type": "code",
   "execution_count": 159,
   "metadata": {},
   "outputs": [
    {
     "data": {
      "text/html": [
       "<div>\n",
       "<style>\n",
       "    .dataframe thead tr:only-child th {\n",
       "        text-align: right;\n",
       "    }\n",
       "\n",
       "    .dataframe thead th {\n",
       "        text-align: left;\n",
       "    }\n",
       "\n",
       "    .dataframe tbody tr th {\n",
       "        vertical-align: top;\n",
       "    }\n",
       "</style>\n",
       "<table border=\"1\" class=\"dataframe\">\n",
       "  <thead>\n",
       "    <tr style=\"text-align: right;\">\n",
       "      <th></th>\n",
       "      <th>year</th>\n",
       "      <th>sex</th>\n",
       "      <th>average_blood_pressure_mmHg</th>\n",
       "      <th>average_bmi</th>\n",
       "      <th>average_diabetes</th>\n",
       "      <th>average_height_cm</th>\n",
       "      <th>male</th>\n",
       "      <th>female</th>\n",
       "    </tr>\n",
       "  </thead>\n",
       "  <tbody>\n",
       "    <tr>\n",
       "      <th>5</th>\n",
       "      <td>1980</td>\n",
       "      <td>Men</td>\n",
       "      <td>128.402402</td>\n",
       "      <td>25.592312</td>\n",
       "      <td>0.046597</td>\n",
       "      <td>177.531675</td>\n",
       "      <td>1</td>\n",
       "      <td>0</td>\n",
       "    </tr>\n",
       "    <tr>\n",
       "      <th>6</th>\n",
       "      <td>1981</td>\n",
       "      <td>Men</td>\n",
       "      <td>127.944534</td>\n",
       "      <td>25.662449</td>\n",
       "      <td>0.047244</td>\n",
       "      <td>177.521189</td>\n",
       "      <td>1</td>\n",
       "      <td>0</td>\n",
       "    </tr>\n",
       "    <tr>\n",
       "      <th>7</th>\n",
       "      <td>1982</td>\n",
       "      <td>Men</td>\n",
       "      <td>127.484951</td>\n",
       "      <td>25.737904</td>\n",
       "      <td>0.047964</td>\n",
       "      <td>177.508491</td>\n",
       "      <td>1</td>\n",
       "      <td>0</td>\n",
       "    </tr>\n",
       "    <tr>\n",
       "      <th>8</th>\n",
       "      <td>1983</td>\n",
       "      <td>Men</td>\n",
       "      <td>127.032056</td>\n",
       "      <td>25.818297</td>\n",
       "      <td>0.048793</td>\n",
       "      <td>177.492798</td>\n",
       "      <td>1</td>\n",
       "      <td>0</td>\n",
       "    </tr>\n",
       "    <tr>\n",
       "      <th>9</th>\n",
       "      <td>1984</td>\n",
       "      <td>Men</td>\n",
       "      <td>126.580242</td>\n",
       "      <td>25.903410</td>\n",
       "      <td>0.049726</td>\n",
       "      <td>177.473892</td>\n",
       "      <td>1</td>\n",
       "      <td>0</td>\n",
       "    </tr>\n",
       "  </tbody>\n",
       "</table>\n",
       "</div>"
      ],
      "text/plain": [
       "   year  sex  average_blood_pressure_mmHg  average_bmi  average_diabetes  \\\n",
       "5  1980  Men                   128.402402    25.592312          0.046597   \n",
       "6  1981  Men                   127.944534    25.662449          0.047244   \n",
       "7  1982  Men                   127.484951    25.737904          0.047964   \n",
       "8  1983  Men                   127.032056    25.818297          0.048793   \n",
       "9  1984  Men                   126.580242    25.903410          0.049726   \n",
       "\n",
       "   average_height_cm  male  female  \n",
       "5         177.531675     1       0  \n",
       "6         177.521189     1       0  \n",
       "7         177.508491     1       0  \n",
       "8         177.492798     1       0  \n",
       "9         177.473892     1       0  "
      ]
     },
     "execution_count": 159,
     "metadata": {},
     "output_type": "execute_result"
    }
   ],
   "source": [
    "df.head()"
   ]
  },
  {
   "cell_type": "code",
   "execution_count": 46,
   "metadata": {
    "scrolled": true
   },
   "outputs": [
    {
     "data": {
      "image/png": "[encoded data removed]",
      "text/plain": [
       "<matplotlib.figure.Figure at 0x115911470>"
      ]
     },
     "metadata": {},
     "output_type": "display_data"
    }
   ],
   "source": [
    "sns.barplot(x=df['year'],\n",
    "            y=df['average_blood_pressure_mmHg'],\n",
    "            hue=df['sex']).set(title=f'Average Blood Pressure Trend By Year')\n",
    "plt.xticks(rotation=35)\n",
    "plt.ylim(100, 130)\n",
    "plt.show();"
   ]
  },
  {
   "cell_type": "code",
   "execution_count": 47,
   "metadata": {},
   "outputs": [
    {
     "data": {
      "image/png": "[encoded data removed]",
      "text/plain": [
       "<matplotlib.figure.Figure at 0x1141bc2b0>"
      ]
     },
     "metadata": {},
     "output_type": "display_data"
    }
   ],
   "source": [
    "sns.barplot(x=df['year'],\n",
    "            y=df['average_bmi'],\n",
    "            hue=df['sex']).set(title=f'Average BMI Trend By Year')\n",
    "plt.xticks(rotation=35)\n",
    "plt.ylim(18, 30)\n",
    "plt.show();"
   ]
  },
  {
   "cell_type": "code",
   "execution_count": 48,
   "metadata": {},
   "outputs": [
    {
     "data": {
      "image/png": "[encoded data removed]",
      "text/plain": [
       "<matplotlib.figure.Figure at 0x115933fd0>"
      ]
     },
     "metadata": {},
     "output_type": "display_data"
    }
   ],
   "source": [
    "sns.barplot(x=df['year'],\n",
    "            y=df['average_diabetes'],\n",
    "            hue=df['sex']).set(title=f'Average Diabetes Trend By Year')\n",
    "plt.ylim(0.03, 0.07)\n",
    "plt.xticks(rotation=35)\n",
    "plt.show();"
   ]
  },
  {
   "cell_type": "code",
   "execution_count": 49,
   "metadata": {},
   "outputs": [
    {
     "data": {
      "image/png": "[encoded data removed]",
      "text/plain": [
       "<matplotlib.figure.Figure at 0x114516278>"
      ]
     },
     "metadata": {},
     "output_type": "display_data"
    }
   ],
   "source": [
    "sns.barplot(x=df['year'],\n",
    "            y=df['average_height_cm'],\n",
    "            hue=df['sex']).set(title=f'Average Height Trend By Year')\n",
    "plt.xticks(rotation=35)\n",
    "plt.ylim(160.50, 178.50)\n",
    "plt.show();"
   ]
  },
  {
   "cell_type": "code",
   "execution_count": 50,
   "metadata": {},
   "outputs": [
    {
     "name": "stdout",
     "output_type": "stream",
     "text": [
      "<class 'pandas.core.frame.DataFrame'>\n",
      "Int64Index: 34 entries, 5 to 62\n",
      "Data columns (total 6 columns):\n",
      "year                           34 non-null int64\n",
      "sex                            34 non-null object\n",
      "average_blood_pressure_mmHg    34 non-null float64\n",
      "average_bmi                    34 non-null float64\n",
      "average_diabetes               34 non-null float64\n",
      "average_height_cm              34 non-null float64\n",
      "dtypes: float64(4), int64(1), object(1)\n",
      "memory usage: 3.1+ KB\n"
     ]
    }
   ],
   "source": [
    "df.info()"
   ]
  },
  {
   "cell_type": "code",
   "execution_count": 51,
   "metadata": {},
   "outputs": [
    {
     "name": "stderr",
     "output_type": "stream",
     "text": [
      "/Users/jinpark/anaconda3/lib/python3.6/site-packages/ipykernel_launcher.py:1: SettingWithCopyWarning: \n",
      "A value is trying to be set on a copy of a slice from a DataFrame.\n",
      "Try using .loc[row_indexer,col_indexer] = value instead\n",
      "\n",
      "See the caveats in the documentation: http://pandas.pydata.org/pandas-docs/stable/indexing.html#indexing-view-versus-copy\n",
      "  \"\"\"Entry point for launching an IPython kernel.\n",
      "/Users/jinpark/anaconda3/lib/python3.6/site-packages/ipykernel_launcher.py:2: SettingWithCopyWarning: \n",
      "A value is trying to be set on a copy of a slice from a DataFrame.\n",
      "Try using .loc[row_indexer,col_indexer] = value instead\n",
      "\n",
      "See the caveats in the documentation: http://pandas.pydata.org/pandas-docs/stable/indexing.html#indexing-view-versus-copy\n",
      "  \n"
     ]
    }
   ],
   "source": [
    "df['male'] = [1 if i == 'Men' else 0 for i in df['sex']]\n",
    "df['female'] = [1 if i == 'Women' else 0 for i in df['sex']]"
   ]
  },
  {
   "cell_type": "code",
   "execution_count": 52,
   "metadata": {},
   "outputs": [
    {
     "data": {
      "text/html": [
       "<div>\n",
       "<style>\n",
       "    .dataframe thead tr:only-child th {\n",
       "        text-align: right;\n",
       "    }\n",
       "\n",
       "    .dataframe thead th {\n",
       "        text-align: left;\n",
       "    }\n",
       "\n",
       "    .dataframe tbody tr th {\n",
       "        vertical-align: top;\n",
       "    }\n",
       "</style>\n",
       "<table border=\"1\" class=\"dataframe\">\n",
       "  <thead>\n",
       "    <tr style=\"text-align: right;\">\n",
       "      <th></th>\n",
       "      <th>year</th>\n",
       "      <th>sex</th>\n",
       "      <th>average_blood_pressure_mmHg</th>\n",
       "      <th>average_bmi</th>\n",
       "      <th>average_diabetes</th>\n",
       "      <th>average_height_cm</th>\n",
       "      <th>male</th>\n",
       "      <th>female</th>\n",
       "    </tr>\n",
       "  </thead>\n",
       "  <tbody>\n",
       "    <tr>\n",
       "      <th>5</th>\n",
       "      <td>1980</td>\n",
       "      <td>Men</td>\n",
       "      <td>128.402402</td>\n",
       "      <td>25.592312</td>\n",
       "      <td>0.046597</td>\n",
       "      <td>177.531675</td>\n",
       "      <td>1</td>\n",
       "      <td>0</td>\n",
       "    </tr>\n",
       "    <tr>\n",
       "      <th>6</th>\n",
       "      <td>1981</td>\n",
       "      <td>Men</td>\n",
       "      <td>127.944534</td>\n",
       "      <td>25.662449</td>\n",
       "      <td>0.047244</td>\n",
       "      <td>177.521189</td>\n",
       "      <td>1</td>\n",
       "      <td>0</td>\n",
       "    </tr>\n",
       "    <tr>\n",
       "      <th>7</th>\n",
       "      <td>1982</td>\n",
       "      <td>Men</td>\n",
       "      <td>127.484951</td>\n",
       "      <td>25.737904</td>\n",
       "      <td>0.047964</td>\n",
       "      <td>177.508491</td>\n",
       "      <td>1</td>\n",
       "      <td>0</td>\n",
       "    </tr>\n",
       "    <tr>\n",
       "      <th>8</th>\n",
       "      <td>1983</td>\n",
       "      <td>Men</td>\n",
       "      <td>127.032056</td>\n",
       "      <td>25.818297</td>\n",
       "      <td>0.048793</td>\n",
       "      <td>177.492798</td>\n",
       "      <td>1</td>\n",
       "      <td>0</td>\n",
       "    </tr>\n",
       "    <tr>\n",
       "      <th>9</th>\n",
       "      <td>1984</td>\n",
       "      <td>Men</td>\n",
       "      <td>126.580242</td>\n",
       "      <td>25.903410</td>\n",
       "      <td>0.049726</td>\n",
       "      <td>177.473892</td>\n",
       "      <td>1</td>\n",
       "      <td>0</td>\n",
       "    </tr>\n",
       "  </tbody>\n",
       "</table>\n",
       "</div>"
      ],
      "text/plain": [
       "   year  sex  average_blood_pressure_mmHg  average_bmi  average_diabetes  \\\n",
       "5  1980  Men                   128.402402    25.592312          0.046597   \n",
       "6  1981  Men                   127.944534    25.662449          0.047244   \n",
       "7  1982  Men                   127.484951    25.737904          0.047964   \n",
       "8  1983  Men                   127.032056    25.818297          0.048793   \n",
       "9  1984  Men                   126.580242    25.903410          0.049726   \n",
       "\n",
       "   average_height_cm  male  female  \n",
       "5         177.531675     1       0  \n",
       "6         177.521189     1       0  \n",
       "7         177.508491     1       0  \n",
       "8         177.492798     1       0  \n",
       "9         177.473892     1       0  "
      ]
     },
     "execution_count": 52,
     "metadata": {},
     "output_type": "execute_result"
    }
   ],
   "source": [
    "df.head()"
   ]
  },
  {
   "cell_type": "code",
   "execution_count": 53,
   "metadata": {},
   "outputs": [],
   "source": [
    "heatmatp =df[['year',\n",
    "              'male',\n",
    "              'female',\n",
    "              'average_blood_pressure_mmHg',\n",
    "              'average_bmi',\n",
    "              'average_diabetes',\n",
    "              'average_height_cm']]"
   ]
  },
  {
   "cell_type": "code",
   "execution_count": 55,
   "metadata": {},
   "outputs": [
    {
     "data": {
      "image/png": "[encoded data removed]",
      "text/plain": [
       "<matplotlib.figure.Figure at 0x115aed898>"
      ]
     },
     "metadata": {},
     "output_type": "display_data"
    }
   ],
   "source": [
    "def correlation_heat_map(df):\n",
    "    corrs = heatmatp.corr()\n",
    "\n",
    "    fig, ax = plt.subplots(figsize=(11,7))\n",
    "\n",
    "    mask = np.zeros_like(corrs, dtype=np.bool)\n",
    "    mask[np.triu_indices_from(mask)] = True\n",
    "\n",
    "    cmap = sns.diverging_palette(220, 10, as_cmap=True)\n",
    "    ax = sns.heatmap(corrs, mask=mask, annot=True, cmap=cmap, vmin=-1, vmax=1)\n",
    "\n",
    "    ax.set_xticklabels(ax.xaxis.get_ticklabels(), fontsize=12, rotation=25)\n",
    "    ax.set_yticklabels(ax.yaxis.get_ticklabels(), fontsize=12, rotation=0)\n",
    "\n",
    "    plt.title('Correlation Heatmap')\n",
    "    \n",
    "df_with_target = heatmatp\n",
    "correlation_heat_map(df_with_target)"
   ]
  },
  {
   "cell_type": "markdown",
   "metadata": {},
   "source": [
    "- Males have positive correlation with bp, bmi, diabetes, height\n",
    "- Females have negative correlation with bp, bmi, diabetes, height\n",
    "- diabetes and bmi have strong correlation\n",
    "- average height have strong correlation with blood pressure\n",
    "- year and bmi have high correlation"
   ]
  },
  {
   "cell_type": "code",
   "execution_count": 136,
   "metadata": {},
   "outputs": [],
   "source": [
    "income = pd.read_csv(\"../data/income2.csv\", engine='python')\n",
    "education = pd.read_csv(\"../data/education.csv\", engine='python')"
   ]
  },
  {
   "cell_type": "code",
   "execution_count": 137,
   "metadata": {},
   "outputs": [
    {
     "data": {
      "text/html": [
       "<div>\n",
       "<style>\n",
       "    .dataframe thead tr:only-child th {\n",
       "        text-align: right;\n",
       "    }\n",
       "\n",
       "    .dataframe thead th {\n",
       "        text-align: left;\n",
       "    }\n",
       "\n",
       "    .dataframe tbody tr th {\n",
       "        vertical-align: top;\n",
       "    }\n",
       "</style>\n",
       "<table border=\"1\" class=\"dataframe\">\n",
       "  <thead>\n",
       "    <tr style=\"text-align: right;\">\n",
       "      <th></th>\n",
       "      <th>Unnamed: 0</th>\n",
       "      <th>avg_female_life_expectancy</th>\n",
       "      <th>avg_male_life_expectancy</th>\n",
       "      <th>state</th>\n",
       "    </tr>\n",
       "  </thead>\n",
       "  <tbody>\n",
       "    <tr>\n",
       "      <th>0</th>\n",
       "      <td>0</td>\n",
       "      <td>83.439052</td>\n",
       "      <td>80.917943</td>\n",
       "      <td>AK</td>\n",
       "    </tr>\n",
       "    <tr>\n",
       "      <th>1</th>\n",
       "      <td>1</td>\n",
       "      <td>84.394983</td>\n",
       "      <td>79.251347</td>\n",
       "      <td>AL</td>\n",
       "    </tr>\n",
       "    <tr>\n",
       "      <th>2</th>\n",
       "      <td>2</td>\n",
       "      <td>84.068003</td>\n",
       "      <td>79.484331</td>\n",
       "      <td>AR</td>\n",
       "    </tr>\n",
       "    <tr>\n",
       "      <th>3</th>\n",
       "      <td>3</td>\n",
       "      <td>84.077862</td>\n",
       "      <td>81.193143</td>\n",
       "      <td>AZ</td>\n",
       "    </tr>\n",
       "    <tr>\n",
       "      <th>4</th>\n",
       "      <td>4</td>\n",
       "      <td>83.911422</td>\n",
       "      <td>80.806316</td>\n",
       "      <td>CA</td>\n",
       "    </tr>\n",
       "  </tbody>\n",
       "</table>\n",
       "</div>"
      ],
      "text/plain": [
       "   Unnamed: 0  avg_female_life_expectancy  avg_male_life_expectancy state\n",
       "0           0                   83.439052                 80.917943    AK\n",
       "1           1                   84.394983                 79.251347    AL\n",
       "2           2                   84.068003                 79.484331    AR\n",
       "3           3                   84.077862                 81.193143    AZ\n",
       "4           4                   83.911422                 80.806316    CA"
      ]
     },
     "execution_count": 137,
     "metadata": {},
     "output_type": "execute_result"
    }
   ],
   "source": [
    "income.head()"
   ]
  },
  {
   "cell_type": "code",
   "execution_count": 138,
   "metadata": {},
   "outputs": [
    {
     "data": {
      "text/html": [
       "<div>\n",
       "<style>\n",
       "    .dataframe thead tr:only-child th {\n",
       "        text-align: right;\n",
       "    }\n",
       "\n",
       "    .dataframe thead th {\n",
       "        text-align: left;\n",
       "    }\n",
       "\n",
       "    .dataframe tbody tr th {\n",
       "        vertical-align: top;\n",
       "    }\n",
       "</style>\n",
       "<table border=\"1\" class=\"dataframe\">\n",
       "  <thead>\n",
       "    <tr style=\"text-align: right;\">\n",
       "      <th></th>\n",
       "      <th>stateabbrv</th>\n",
       "      <th>pov_rate</th>\n",
       "      <th>medi_per_enro</th>\n",
       "      <th>per_uninsured</th>\n",
       "      <th>frct_mid_clap25-p75</th>\n",
       "      <th>per_medi_enro_with_at_least_one_pri_care_visit</th>\n",
       "      <th>per_black</th>\n",
       "      <th>per_hisp</th>\n",
       "      <th>unemp_rate</th>\n",
       "      <th>per_chng_in_pop_1980_2000</th>\n",
       "      <th>...</th>\n",
       "      <th>test_score_percentile</th>\n",
       "      <th>high_schl_dropout_rate</th>\n",
       "      <th>percent_college_grads</th>\n",
       "      <th>col_tuition</th>\n",
       "      <th>percent_col_grads</th>\n",
       "      <th>abs_mobility_expected_rank_at_p25</th>\n",
       "      <th>frac_of_children_with_sing_mom</th>\n",
       "      <th>total_crime_rate</th>\n",
       "      <th>local_govt_expenditure</th>\n",
       "      <th>Local_tax_rate</th>\n",
       "    </tr>\n",
       "  </thead>\n",
       "  <tbody>\n",
       "    <tr>\n",
       "      <th>0</th>\n",
       "      <td>AL</td>\n",
       "      <td>0.148726</td>\n",
       "      <td>9952.546667</td>\n",
       "      <td>17.077522</td>\n",
       "      <td>0.484903</td>\n",
       "      <td>83.755935</td>\n",
       "      <td>19.496650</td>\n",
       "      <td>1.983187</td>\n",
       "      <td>0.045197</td>\n",
       "      <td>0.312883</td>\n",
       "      <td>...</td>\n",
       "      <td>-10.352103</td>\n",
       "      <td>0.001664</td>\n",
       "      <td>20.033333</td>\n",
       "      <td>3236.307125</td>\n",
       "      <td>-0.052226</td>\n",
       "      <td>42.470111</td>\n",
       "      <td>0.228163</td>\n",
       "      <td>0.006833</td>\n",
       "      <td>2078.721092</td>\n",
       "      <td>0.014327</td>\n",
       "    </tr>\n",
       "    <tr>\n",
       "      <th>1</th>\n",
       "      <td>AR</td>\n",
       "      <td>0.170497</td>\n",
       "      <td>9363.424000</td>\n",
       "      <td>19.415878</td>\n",
       "      <td>0.502598</td>\n",
       "      <td>82.252078</td>\n",
       "      <td>21.447904</td>\n",
       "      <td>2.043490</td>\n",
       "      <td>0.053172</td>\n",
       "      <td>0.204533</td>\n",
       "      <td>...</td>\n",
       "      <td>-5.824634</td>\n",
       "      <td>0.013758</td>\n",
       "      <td>16.790000</td>\n",
       "      <td>2977.303960</td>\n",
       "      <td>-0.099759</td>\n",
       "      <td>41.914842</td>\n",
       "      <td>0.254516</td>\n",
       "      <td>0.010848</td>\n",
       "      <td>1438.899780</td>\n",
       "      <td>0.013538</td>\n",
       "    </tr>\n",
       "    <tr>\n",
       "      <th>2</th>\n",
       "      <td>CT</td>\n",
       "      <td>0.075845</td>\n",
       "      <td>8942.330000</td>\n",
       "      <td>10.221514</td>\n",
       "      <td>0.426410</td>\n",
       "      <td>78.550971</td>\n",
       "      <td>8.946201</td>\n",
       "      <td>9.127685</td>\n",
       "      <td>0.031023</td>\n",
       "      <td>0.109721</td>\n",
       "      <td>...</td>\n",
       "      <td>-9.925846</td>\n",
       "      <td>0.007072</td>\n",
       "      <td>32.725000</td>\n",
       "      <td>12240.415125</td>\n",
       "      <td>0.062212</td>\n",
       "      <td>45.400130</td>\n",
       "      <td>0.213428</td>\n",
       "      <td>0.007371</td>\n",
       "      <td>2466.804575</td>\n",
       "      <td>0.027033</td>\n",
       "    </tr>\n",
       "    <tr>\n",
       "      <th>3</th>\n",
       "      <td>DE</td>\n",
       "      <td>0.095400</td>\n",
       "      <td>9215.980000</td>\n",
       "      <td>10.758016</td>\n",
       "      <td>0.508115</td>\n",
       "      <td>83.920567</td>\n",
       "      <td>20.129455</td>\n",
       "      <td>4.233707</td>\n",
       "      <td>0.035383</td>\n",
       "      <td>0.273264</td>\n",
       "      <td>...</td>\n",
       "      <td>-1.531314</td>\n",
       "      <td>0.005217</td>\n",
       "      <td>24.050000</td>\n",
       "      <td>4896.133800</td>\n",
       "      <td>0.012088</td>\n",
       "      <td>41.378481</td>\n",
       "      <td>0.244086</td>\n",
       "      <td>0.012971</td>\n",
       "      <td>1785.088800</td>\n",
       "      <td>0.009659</td>\n",
       "    </tr>\n",
       "    <tr>\n",
       "      <th>4</th>\n",
       "      <td>GA</td>\n",
       "      <td>0.144810</td>\n",
       "      <td>9399.444091</td>\n",
       "      <td>22.243300</td>\n",
       "      <td>0.471200</td>\n",
       "      <td>80.301227</td>\n",
       "      <td>29.091077</td>\n",
       "      <td>5.791787</td>\n",
       "      <td>0.042889</td>\n",
       "      <td>0.507484</td>\n",
       "      <td>...</td>\n",
       "      <td>-9.415033</td>\n",
       "      <td>0.045750</td>\n",
       "      <td>22.400000</td>\n",
       "      <td>3590.525939</td>\n",
       "      <td>-0.024492</td>\n",
       "      <td>39.379727</td>\n",
       "      <td>0.267996</td>\n",
       "      <td>0.008659</td>\n",
       "      <td>2384.763882</td>\n",
       "      <td>0.023089</td>\n",
       "    </tr>\n",
       "  </tbody>\n",
       "</table>\n",
       "<p>5 rows × 29 columns</p>\n",
       "</div>"
      ],
      "text/plain": [
       "  stateabbrv  pov_rate  medi_per_enro  per_uninsured  frct_mid_clap25-p75  \\\n",
       "0         AL  0.148726    9952.546667      17.077522             0.484903   \n",
       "1         AR  0.170497    9363.424000      19.415878             0.502598   \n",
       "2         CT  0.075845    8942.330000      10.221514             0.426410   \n",
       "3         DE  0.095400    9215.980000      10.758016             0.508115   \n",
       "4         GA  0.144810    9399.444091      22.243300             0.471200   \n",
       "\n",
       "   per_medi_enro_with_at_least_one_pri_care_visit  per_black  per_hisp  \\\n",
       "0                                       83.755935  19.496650  1.983187   \n",
       "1                                       82.252078  21.447904  2.043490   \n",
       "2                                       78.550971   8.946201  9.127685   \n",
       "3                                       83.920567  20.129455  4.233707   \n",
       "4                                       80.301227  29.091077  5.791787   \n",
       "\n",
       "   unemp_rate  per_chng_in_pop_1980_2000       ...        \\\n",
       "0    0.045197                   0.312883       ...         \n",
       "1    0.053172                   0.204533       ...         \n",
       "2    0.031023                   0.109721       ...         \n",
       "3    0.035383                   0.273264       ...         \n",
       "4    0.042889                   0.507484       ...         \n",
       "\n",
       "   test_score_percentile  high_schl_dropout_rate  percent_college_grads  \\\n",
       "0             -10.352103                0.001664              20.033333   \n",
       "1              -5.824634                0.013758              16.790000   \n",
       "2              -9.925846                0.007072              32.725000   \n",
       "3              -1.531314                0.005217              24.050000   \n",
       "4              -9.415033                0.045750              22.400000   \n",
       "\n",
       "    col_tuition  percent_col_grads  abs_mobility_expected_rank_at_p25  \\\n",
       "0   3236.307125          -0.052226                          42.470111   \n",
       "1   2977.303960          -0.099759                          41.914842   \n",
       "2  12240.415125           0.062212                          45.400130   \n",
       "3   4896.133800           0.012088                          41.378481   \n",
       "4   3590.525939          -0.024492                          39.379727   \n",
       "\n",
       "   frac_of_children_with_sing_mom  total_crime_rate  local_govt_expenditure  \\\n",
       "0                        0.228163          0.006833             2078.721092   \n",
       "1                        0.254516          0.010848             1438.899780   \n",
       "2                        0.213428          0.007371             2466.804575   \n",
       "3                        0.244086          0.012971             1785.088800   \n",
       "4                        0.267996          0.008659             2384.763882   \n",
       "\n",
       "   Local_tax_rate  \n",
       "0        0.014327  \n",
       "1        0.013538  \n",
       "2        0.027033  \n",
       "3        0.009659  \n",
       "4        0.023089  \n",
       "\n",
       "[5 rows x 29 columns]"
      ]
     },
     "execution_count": 138,
     "metadata": {},
     "output_type": "execute_result"
    }
   ],
   "source": [
    "education.head()"
   ]
  },
  {
   "cell_type": "code",
   "execution_count": 139,
   "metadata": {},
   "outputs": [
    {
     "data": {
      "text/plain": [
       "Index(['stateabbrv', 'pov_rate', 'medi_per_enro', 'per_uninsured',\n",
       "       'frct_mid_clap25-p75', 'per_medi_enro_with_at_least_one_pri_care_visit',\n",
       "       'per_black', 'per_hisp', 'unemp_rate', 'per_chng_in_pop_1980_2000',\n",
       "       'per_chng_in_lab_force_1980_2000', 'lab_force_parti',\n",
       "       'share_work_in_manu', 'pop_density', 'frac_with_commute_<15_mins',\n",
       "       'med_household_income', 'med_house_value', 'schl_expend_per_student',\n",
       "       'student_teacher_ratio', 'test_score_percentile',\n",
       "       'high_schl_dropout_rate', 'percent_college_grads', 'col_tuition',\n",
       "       'percent_col_grads', 'abs_mobility_expected_rank_at_p25',\n",
       "       'frac_of_children_with_sing_mom', 'total_crime_rate',\n",
       "       'local_govt_expenditure', 'Local_tax_rate'],\n",
       "      dtype='object')"
      ]
     },
     "execution_count": 139,
     "metadata": {},
     "output_type": "execute_result"
    }
   ],
   "source": [
    "education.columns"
   ]
  },
  {
   "cell_type": "code",
   "execution_count": 140,
   "metadata": {
    "collapsed": true
   },
   "outputs": [],
   "source": [
    "education_cols = [col for col in education.columns if col in ['stateabbrv',\n",
    "                                                              'pov_rate',\n",
    "                                                              'unemp_rate',\n",
    "                                                              'per_uninsured',\n",
    "                                                              'percent_college_grads']]"
   ]
  },
  {
   "cell_type": "code",
   "execution_count": 141,
   "metadata": {
    "collapsed": true
   },
   "outputs": [],
   "source": [
    "education = education[education_cols]"
   ]
  },
  {
   "cell_type": "code",
   "execution_count": 142,
   "metadata": {},
   "outputs": [
    {
     "data": {
      "text/html": [
       "<div>\n",
       "<style>\n",
       "    .dataframe thead tr:only-child th {\n",
       "        text-align: right;\n",
       "    }\n",
       "\n",
       "    .dataframe thead th {\n",
       "        text-align: left;\n",
       "    }\n",
       "\n",
       "    .dataframe tbody tr th {\n",
       "        vertical-align: top;\n",
       "    }\n",
       "</style>\n",
       "<table border=\"1\" class=\"dataframe\">\n",
       "  <thead>\n",
       "    <tr style=\"text-align: right;\">\n",
       "      <th></th>\n",
       "      <th>stateabbrv</th>\n",
       "      <th>pov_rate</th>\n",
       "      <th>per_uninsured</th>\n",
       "      <th>unemp_rate</th>\n",
       "      <th>percent_college_grads</th>\n",
       "    </tr>\n",
       "  </thead>\n",
       "  <tbody>\n",
       "    <tr>\n",
       "      <th>0</th>\n",
       "      <td>AL</td>\n",
       "      <td>0.148726</td>\n",
       "      <td>17.077522</td>\n",
       "      <td>0.045197</td>\n",
       "      <td>20.033333</td>\n",
       "    </tr>\n",
       "    <tr>\n",
       "      <th>1</th>\n",
       "      <td>AR</td>\n",
       "      <td>0.170497</td>\n",
       "      <td>19.415878</td>\n",
       "      <td>0.053172</td>\n",
       "      <td>16.790000</td>\n",
       "    </tr>\n",
       "    <tr>\n",
       "      <th>2</th>\n",
       "      <td>CT</td>\n",
       "      <td>0.075845</td>\n",
       "      <td>10.221514</td>\n",
       "      <td>0.031023</td>\n",
       "      <td>32.725000</td>\n",
       "    </tr>\n",
       "    <tr>\n",
       "      <th>3</th>\n",
       "      <td>DE</td>\n",
       "      <td>0.095400</td>\n",
       "      <td>10.758016</td>\n",
       "      <td>0.035383</td>\n",
       "      <td>24.050000</td>\n",
       "    </tr>\n",
       "    <tr>\n",
       "      <th>4</th>\n",
       "      <td>GA</td>\n",
       "      <td>0.144810</td>\n",
       "      <td>22.243300</td>\n",
       "      <td>0.042889</td>\n",
       "      <td>22.400000</td>\n",
       "    </tr>\n",
       "  </tbody>\n",
       "</table>\n",
       "</div>"
      ],
      "text/plain": [
       "  stateabbrv  pov_rate  per_uninsured  unemp_rate  percent_college_grads\n",
       "0         AL  0.148726      17.077522    0.045197              20.033333\n",
       "1         AR  0.170497      19.415878    0.053172              16.790000\n",
       "2         CT  0.075845      10.221514    0.031023              32.725000\n",
       "3         DE  0.095400      10.758016    0.035383              24.050000\n",
       "4         GA  0.144810      22.243300    0.042889              22.400000"
      ]
     },
     "execution_count": 142,
     "metadata": {},
     "output_type": "execute_result"
    }
   ],
   "source": [
    "education.head()"
   ]
  },
  {
   "cell_type": "code",
   "execution_count": 143,
   "metadata": {},
   "outputs": [],
   "source": [
    "education_new_col = [u'state', u'poverty_rate', u'uninsured_rate', u'unemployment_rate', u'college_grad']"
   ]
  },
  {
   "cell_type": "code",
   "execution_count": 144,
   "metadata": {},
   "outputs": [],
   "source": [
    "education.columns = education_new_col"
   ]
  },
  {
   "cell_type": "code",
   "execution_count": 148,
   "metadata": {
    "scrolled": true
   },
   "outputs": [],
   "source": [
    "edu_df = pd.merge(education, income, how='left', on=['state'])"
   ]
  },
  {
   "cell_type": "code",
   "execution_count": 154,
   "metadata": {},
   "outputs": [],
   "source": [
    "edu_df.reset_index(drop=True,inplace=True)"
   ]
  },
  {
   "cell_type": "code",
   "execution_count": 156,
   "metadata": {},
   "outputs": [
    {
     "name": "stdout",
     "output_type": "stream",
     "text": [
      "<class 'pandas.core.frame.DataFrame'>\n",
      "RangeIndex: 33 entries, 0 to 32\n",
      "Data columns (total 8 columns):\n",
      "state                         33 non-null object\n",
      "poverty_rate                  33 non-null float64\n",
      "uninsured_rate                33 non-null float64\n",
      "unemployment_rate             33 non-null float64\n",
      "college_grad                  33 non-null float64\n",
      "Unnamed: 0                    33 non-null int64\n",
      "avg_female_life_expectancy    33 non-null float64\n",
      "avg_male_life_expectancy      33 non-null float64\n",
      "dtypes: float64(6), int64(1), object(1)\n",
      "memory usage: 2.1+ KB\n"
     ]
    }
   ],
   "source": [
    "edu_df.info()"
   ]
  },
  {
   "cell_type": "code",
   "execution_count": 158,
   "metadata": {
    "scrolled": false
   },
   "outputs": [
    {
     "data": {
      "image/png": "[encoded data removed]",
      "text/plain": [
       "<matplotlib.figure.Figure at 0x115af37f0>"
      ]
     },
     "metadata": {},
     "output_type": "display_data"
    }
   ],
   "source": [
    "def correlation_heat_map(df):\n",
    "    corrs = edu_df.corr()\n",
    "\n",
    "    fig, ax = plt.subplots(figsize=(11,7))\n",
    "\n",
    "    mask = np.zeros_like(corrs, dtype=np.bool)\n",
    "    mask[np.triu_indices_from(mask)] = True\n",
    "\n",
    "    cmap = sns.diverging_palette(220, 10, as_cmap=True)\n",
    "    ax = sns.heatmap(corrs, mask=mask, annot=True, cmap=cmap, vmin=-1, vmax=1)\n",
    "\n",
    "    ax.set_xticklabels(ax.xaxis.get_ticklabels(), fontsize=12, rotation=25)\n",
    "    ax.set_yticklabels(ax.yaxis.get_ticklabels(), fontsize=12, rotation=0)\n",
    "\n",
    "    plt.title('Education Correlation Heatmap')\n",
    "    \n",
    "df_with_target = edu_df\n",
    "correlation_heat_map(df_with_target)"
   ]
  }
 ],
 "metadata": {
  "kernelspec": {
   "display_name": "Python 3",
   "language": "python",
   "name": "python3"
  },
  "language_info": {
   "codemirror_mode": {
    "name": "ipython",
    "version": 3
   },
   "file_extension": ".py",
   "mimetype": "text/x-python",
   "name": "python",
   "nbconvert_exporter": "python",
   "pygments_lexer": "ipython3",
   "version": "3.6.3"
  }
 },
 "nbformat": 4,
 "nbformat_minor": 2
}
